{
 "cells": [
  {
   "cell_type": "code",
   "execution_count": 67,
   "id": "dd404efb",
   "metadata": {},
   "outputs": [],
   "source": [
    "import json\n",
    "import pandas as pd\n",
    "import matplotlib.pyplot as plt\n",
    "from pathlib import Path"
   ]
  },
  {
   "cell_type": "code",
   "execution_count": 68,
   "id": "5f2ae94f",
   "metadata": {},
   "outputs": [],
   "source": [
    "TRAIN_DATA = Path(\"D:/.projects/uit-ds-2025/dataset/vihallu-train-final.csv\")\n",
    "TEST_DATA = Path(\"D:/.projects/uit-ds-2025/dataset/vihallu-test-final.csv\")"
   ]
  },
  {
   "cell_type": "code",
   "execution_count": 69,
   "id": "d8033013",
   "metadata": {},
   "outputs": [],
   "source": [
    "train_df = pd.read_csv(TRAIN_DATA)\n",
    "test_df = pd.read_csv(TEST_DATA)"
   ]
  },
  {
   "cell_type": "code",
   "execution_count": 70,
   "id": "3ff34fbf",
   "metadata": {},
   "outputs": [
    {
     "data": {
      "text/html": [
       "<div>\n",
       "<style scoped>\n",
       "    .dataframe tbody tr th:only-of-type {\n",
       "        vertical-align: middle;\n",
       "    }\n",
       "\n",
       "    .dataframe tbody tr th {\n",
       "        vertical-align: top;\n",
       "    }\n",
       "\n",
       "    .dataframe thead th {\n",
       "        text-align: right;\n",
       "    }\n",
       "</style>\n",
       "<table border=\"1\" class=\"dataframe\">\n",
       "  <thead>\n",
       "    <tr style=\"text-align: right;\">\n",
       "      <th></th>\n",
       "      <th>id</th>\n",
       "      <th>context</th>\n",
       "      <th>prompt</th>\n",
       "      <th>response</th>\n",
       "      <th>label</th>\n",
       "      <th>normalized_response</th>\n",
       "    </tr>\n",
       "  </thead>\n",
       "  <tbody>\n",
       "    <tr>\n",
       "      <th>0</th>\n",
       "      <td>10fca062-d343-4eca-8434-93c7a8aa5e0e</td>\n",
       "      <td>Vị trí địa lý nằm giữa phương Đông và Địa Trun...</td>\n",
       "      <td>Dựa trên việc Đế quốc Ottoman không bao giờ ki...</td>\n",
       "      <td>Nền ẩm thực của Thổ Nhĩ Kỳ được xây dựng từ gi...</td>\n",
       "      <td>extrinsic</td>\n",
       "      <td>Nền ẩm thực của Thổ Nhĩ Kỳ được xây dựng từ gi...</td>\n",
       "    </tr>\n",
       "    <tr>\n",
       "      <th>1</th>\n",
       "      <td>acbc06f5-a69d-4ebc-9b80-aaea59f71475</td>\n",
       "      <td>Sao Hải Vương có cấu tạo tương tự như Sao Thiê...</td>\n",
       "      <td>Tần suất các nhà khoa học coi Sao Thiên Vương ...</td>\n",
       "      <td>Các nhà khoa học thường phân loại Sao Thiên Vư...</td>\n",
       "      <td>extrinsic</td>\n",
       "      <td>Các nhà khoa học thường phân loại Sao Thiên Vư...</td>\n",
       "    </tr>\n",
       "    <tr>\n",
       "      <th>2</th>\n",
       "      <td>5798f11f-03aa-4e4c-8cac-5a7e9bfb8225</td>\n",
       "      <td>Trong những năm đầu thế kỷ 21, sự nổi lên của ...</td>\n",
       "      <td>Nguồn tiền dollar mà Cuba nhận được trong một ...</td>\n",
       "      <td>Không, nguồn tiền dollar mà Cuba nhận được từ ...</td>\n",
       "      <td>no</td>\n",
       "      <td>Nguồn tiền dollar mà Cuba nhận được trong một ...</td>\n",
       "    </tr>\n",
       "    <tr>\n",
       "      <th>3</th>\n",
       "      <td>828fe10c-2688-487e-9f8c-683eb0d2aed7</td>\n",
       "      <td>Kể từ khi độc lập, Malaysia trở thành một tron...</td>\n",
       "      <td>Những yếu tố nào đóng góp cho sự phát triển củ...</td>\n",
       "      <td>Một yếu tố chính thúc đẩy kinh tế Malaysia là ...</td>\n",
       "      <td>intrinsic</td>\n",
       "      <td>Những yếu tố đóng góp cho sự phát triển của nề...</td>\n",
       "    </tr>\n",
       "    <tr>\n",
       "      <th>4</th>\n",
       "      <td>a77b5dcf-8f5c-47f3-af8f-82e2a94717ef</td>\n",
       "      <td>Thảm thực vật tự nhiên của Hà Nam gồm có rừng ...</td>\n",
       "      <td>Tại vùng núi phía Tây Hà Nam, thảm thực vật tự...</td>\n",
       "      <td>Vùng núi phía Tây Hà Nam không phải là sa mạc;...</td>\n",
       "      <td>extrinsic</td>\n",
       "      <td>Có đúng, tại vùng núi phía Tây Hà Nam, thảm th...</td>\n",
       "    </tr>\n",
       "  </tbody>\n",
       "</table>\n",
       "</div>"
      ],
      "text/plain": [
       "                                     id  \\\n",
       "0  10fca062-d343-4eca-8434-93c7a8aa5e0e   \n",
       "1  acbc06f5-a69d-4ebc-9b80-aaea59f71475   \n",
       "2  5798f11f-03aa-4e4c-8cac-5a7e9bfb8225   \n",
       "3  828fe10c-2688-487e-9f8c-683eb0d2aed7   \n",
       "4  a77b5dcf-8f5c-47f3-af8f-82e2a94717ef   \n",
       "\n",
       "                                             context  \\\n",
       "0  Vị trí địa lý nằm giữa phương Đông và Địa Trun...   \n",
       "1  Sao Hải Vương có cấu tạo tương tự như Sao Thiê...   \n",
       "2  Trong những năm đầu thế kỷ 21, sự nổi lên của ...   \n",
       "3  Kể từ khi độc lập, Malaysia trở thành một tron...   \n",
       "4  Thảm thực vật tự nhiên của Hà Nam gồm có rừng ...   \n",
       "\n",
       "                                              prompt  \\\n",
       "0  Dựa trên việc Đế quốc Ottoman không bao giờ ki...   \n",
       "1  Tần suất các nhà khoa học coi Sao Thiên Vương ...   \n",
       "2  Nguồn tiền dollar mà Cuba nhận được trong một ...   \n",
       "3  Những yếu tố nào đóng góp cho sự phát triển củ...   \n",
       "4  Tại vùng núi phía Tây Hà Nam, thảm thực vật tự...   \n",
       "\n",
       "                                            response      label  \\\n",
       "0  Nền ẩm thực của Thổ Nhĩ Kỳ được xây dựng từ gi...  extrinsic   \n",
       "1  Các nhà khoa học thường phân loại Sao Thiên Vư...  extrinsic   \n",
       "2  Không, nguồn tiền dollar mà Cuba nhận được từ ...         no   \n",
       "3  Một yếu tố chính thúc đẩy kinh tế Malaysia là ...  intrinsic   \n",
       "4  Vùng núi phía Tây Hà Nam không phải là sa mạc;...  extrinsic   \n",
       "\n",
       "                                 normalized_response  \n",
       "0  Nền ẩm thực của Thổ Nhĩ Kỳ được xây dựng từ gi...  \n",
       "1  Các nhà khoa học thường phân loại Sao Thiên Vư...  \n",
       "2  Nguồn tiền dollar mà Cuba nhận được trong một ...  \n",
       "3  Những yếu tố đóng góp cho sự phát triển của nề...  \n",
       "4  Có đúng, tại vùng núi phía Tây Hà Nam, thảm th...  "
      ]
     },
     "execution_count": 70,
     "metadata": {},
     "output_type": "execute_result"
    }
   ],
   "source": [
    "train_df.head()"
   ]
  },
  {
   "cell_type": "code",
   "execution_count": 71,
   "id": "a88bf009",
   "metadata": {},
   "outputs": [
    {
     "name": "stdout",
     "output_type": "stream",
     "text": [
      "6999 1000\n"
     ]
    }
   ],
   "source": [
    "print(len(train_df), len(test_df))"
   ]
  },
  {
   "cell_type": "code",
   "execution_count": 72,
   "id": "f0c6c435",
   "metadata": {},
   "outputs": [],
   "source": [
    "test_df['og_length'] = (test_df['response'].str.split(' ')).apply(len)\n",
    "test_df['new_length'] = (test_df['normalized_response'].str.split(' ')).apply(len)\n",
    "# test_df['length'] = (test_df['context'] + test_df['response']).apply(len)"
   ]
  },
  {
   "cell_type": "code",
   "execution_count": 73,
   "id": "009af485",
   "metadata": {},
   "outputs": [],
   "source": [
    "# plt.hist(train_df['og_length'], bins=200, alpha=0.5, label='Original Lengths')\n",
    "# plt.hist(train_df['new_length'], bins=200, alpha=0.5, label='New Lengths')\n",
    "# plt.xlabel('Length of Response (in words)')\n",
    "# plt.ylabel('Frequency')\n",
    "# plt.legend()\n",
    "# plt.show()"
   ]
  },
  {
   "cell_type": "code",
   "execution_count": 74,
   "id": "a9b88514",
   "metadata": {},
   "outputs": [
    {
     "data": {
      "image/png": "[encoded data removed]",
      "text/plain": [
       "<Figure size 640x480 with 1 Axes>"
      ]
     },
     "metadata": {},
     "output_type": "display_data"
    }
   ],
   "source": [
    "train_df['label'].value_counts().plot(kind='bar')\n",
    "plt.show()"
   ]
  },
  {
   "cell_type": "code",
   "execution_count": 75,
   "id": "7eeda7cc",
   "metadata": {},
   "outputs": [
    {
     "data": {
      "text/html": [
       "<div>\n",
       "<style scoped>\n",
       "    .dataframe tbody tr th:only-of-type {\n",
       "        vertical-align: middle;\n",
       "    }\n",
       "\n",
       "    .dataframe tbody tr th {\n",
       "        vertical-align: top;\n",
       "    }\n",
       "\n",
       "    .dataframe thead th {\n",
       "        text-align: right;\n",
       "    }\n",
       "</style>\n",
       "<table border=\"1\" class=\"dataframe\">\n",
       "  <thead>\n",
       "    <tr style=\"text-align: right;\">\n",
       "      <th></th>\n",
       "      <th>id</th>\n",
       "      <th>context</th>\n",
       "      <th>prompt</th>\n",
       "      <th>response</th>\n",
       "      <th>predict_label</th>\n",
       "      <th>normalized_response</th>\n",
       "      <th>og_length</th>\n",
       "      <th>new_length</th>\n",
       "      <th>use_normalized</th>\n",
       "      <th>final_response</th>\n",
       "    </tr>\n",
       "  </thead>\n",
       "  <tbody>\n",
       "    <tr>\n",
       "      <th>106</th>\n",
       "      <td>5f600ddf-c105-42d7-8688-52fbe91b2c67</td>\n",
       "      <td>Đến thế kỷ 1, tầng lớp quý tộc Parthia đã nắm ...</td>\n",
       "      <td>Hai gia tộc nào đã bị lãng quên hoàn toàn và k...</td>\n",
       "      <td>Gia tộc Suren và gia tộc Karen.</td>\n",
       "      <td>NaN</td>\n",
       "      <td>Hai gia tộc Gia tộc Suren và gia tộc Karen khô...</td>\n",
       "      <td>7</td>\n",
       "      <td>43</td>\n",
       "      <td>True</td>\n",
       "      <td>Hai gia tộc Gia tộc Suren và gia tộc Karen khô...</td>\n",
       "    </tr>\n",
       "    <tr>\n",
       "      <th>887</th>\n",
       "      <td>5d918e76-0242-4e79-8647-339ada14bfb4</td>\n",
       "      <td>Ngày 10 tháng 8 năm 1792, một đám đông giận dữ...</td>\n",
       "      <td>Để phúc đáp lại tuyên chiến của Pháp, các nước...</td>\n",
       "      <td>vào mùa xuân năm 1793.</td>\n",
       "      <td>NaN</td>\n",
       "      <td>Để phản ứng với tuyên chiến của Pháp, các nước...</td>\n",
       "      <td>5</td>\n",
       "      <td>26</td>\n",
       "      <td>True</td>\n",
       "      <td>Để phản ứng với tuyên chiến của Pháp, các nước...</td>\n",
       "    </tr>\n",
       "  </tbody>\n",
       "</table>\n",
       "</div>"
      ],
      "text/plain": [
       "                                       id  \\\n",
       "106  5f600ddf-c105-42d7-8688-52fbe91b2c67   \n",
       "887  5d918e76-0242-4e79-8647-339ada14bfb4   \n",
       "\n",
       "                                               context  \\\n",
       "106  Đến thế kỷ 1, tầng lớp quý tộc Parthia đã nắm ...   \n",
       "887  Ngày 10 tháng 8 năm 1792, một đám đông giận dữ...   \n",
       "\n",
       "                                                prompt  \\\n",
       "106  Hai gia tộc nào đã bị lãng quên hoàn toàn và k...   \n",
       "887  Để phúc đáp lại tuyên chiến của Pháp, các nước...   \n",
       "\n",
       "                            response  predict_label  \\\n",
       "106  Gia tộc Suren và gia tộc Karen.            NaN   \n",
       "887           vào mùa xuân năm 1793.            NaN   \n",
       "\n",
       "                                   normalized_response  og_length  new_length  \\\n",
       "106  Hai gia tộc Gia tộc Suren và gia tộc Karen khô...          7          43   \n",
       "887  Để phản ứng với tuyên chiến của Pháp, các nước...          5          26   \n",
       "\n",
       "     use_normalized                                     final_response  \n",
       "106            True  Hai gia tộc Gia tộc Suren và gia tộc Karen khô...  \n",
       "887            True  Để phản ứng với tuyên chiến của Pháp, các nước...  "
      ]
     },
     "execution_count": 75,
     "metadata": {},
     "output_type": "execute_result"
    }
   ],
   "source": [
    "## use normalized repsonse if og_length < 10\n",
    "test_df['use_normalized'] = test_df['og_length'] < 10\n",
    "test_df['final_response'] = test_df.apply(lambda row: row['normalized_response'] if row['use_normalized'] else row['response'], axis=1)\n",
    "\n",
    "test_df[(abs(test_df['new_length'] - test_df['og_length']) > 10) & (test_df['og_length'] < 10)]"
   ]
  },
  {
   "cell_type": "code",
   "execution_count": 76,
   "id": "0c1dc9e3",
   "metadata": {},
   "outputs": [],
   "source": [
    "test_df = test_df.drop(columns=['og_length', 'new_length', 'use_normalized'])\n",
    "\n",
    "test_df.to_csv(\"D:/.projects/uit-ds-2025/dataset/vihallu-test-true-final.csv\", index=False)"
   ]
  },
  {
   "cell_type": "code",
   "execution_count": null,
   "id": "906137db",
   "metadata": {},
   "outputs": [],
   "source": []
  }
 ],
 "metadata": {
  "kernelspec": {
   "display_name": ".venv",
   "language": "python",
   "name": "python3"
  },
  "language_info": {
   "codemirror_mode": {
    "name": "ipython",
    "version": 3
   },
   "file_extension": ".py",
   "mimetype": "text/x-python",
   "name": "python",
   "nbconvert_exporter": "python",
   "pygments_lexer": "ipython3",
   "version": "3.11.9"
  }
 },
 "nbformat": 4,
 "nbformat_minor": 5
}
