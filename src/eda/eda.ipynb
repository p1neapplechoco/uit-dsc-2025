{
 "cells": [
  {
   "cell_type": "code",
   "execution_count": 17,
   "id": "dd404efb",
   "metadata": {},
   "outputs": [],
   "source": [
    "import json\n",
    "import pandas as pd\n",
    "import matplotlib.pyplot as plt\n",
    "from pathlib import Path"
   ]
  },
  {
   "cell_type": "code",
   "execution_count": 18,
   "id": "5f2ae94f",
   "metadata": {},
   "outputs": [],
   "source": [
    "TRAIN_DATA = Path(\"D:/.projects/uit-ds-2025/dataset/vihallu-train.csv\")\n",
    "TEST_DATA = Path(\"D:/.projects/uit-ds-2025/dataset/vihallu-public-test.csv\")"
   ]
  },
  {
   "cell_type": "code",
   "execution_count": 19,
   "id": "d8033013",
   "metadata": {},
   "outputs": [],
   "source": [
    "train_df = pd.read_csv(TRAIN_DATA)\n",
    "test_df = pd.read_csv(TEST_DATA)"
   ]
  },
  {
   "cell_type": "code",
   "execution_count": 20,
   "id": "3ff34fbf",
   "metadata": {},
   "outputs": [
    {
     "data": {
      "text/html": [
       "<div>\n",
       "<style scoped>\n",
       "    .dataframe tbody tr th:only-of-type {\n",
       "        vertical-align: middle;\n",
       "    }\n",
       "\n",
       "    .dataframe tbody tr th {\n",
       "        vertical-align: top;\n",
       "    }\n",
       "\n",
       "    .dataframe thead th {\n",
       "        text-align: right;\n",
       "    }\n",
       "</style>\n",
       "<table border=\"1\" class=\"dataframe\">\n",
       "  <thead>\n",
       "    <tr style=\"text-align: right;\">\n",
       "      <th></th>\n",
       "      <th>id</th>\n",
       "      <th>context</th>\n",
       "      <th>prompt</th>\n",
       "      <th>response</th>\n",
       "      <th>label</th>\n",
       "    </tr>\n",
       "  </thead>\n",
       "  <tbody>\n",
       "    <tr>\n",
       "      <th>0</th>\n",
       "      <td>9b1ea51d-d1ff-45ba-8cf1-6a91328e8600</td>\n",
       "      <td>Vào những năm 1870, hai nhà điêu khắc Augustus...</td>\n",
       "      <td>Vào những năm 1960, nơi nào trở thành trung tâ...</td>\n",
       "      <td>Quảng trường Washington là trung tâm của thế h...</td>\n",
       "      <td>extrinsic</td>\n",
       "    </tr>\n",
       "    <tr>\n",
       "      <th>1</th>\n",
       "      <td>db7a89c6-2a6a-42af-beef-58e557ecc819</td>\n",
       "      <td>Cách mạng Tháng Mười đã biến một cuộc chiến tr...</td>\n",
       "      <td>Cách mạng Tháng Mười đã khởi xướng chủ nghĩa p...</td>\n",
       "      <td>Sai. Cách mạng Tháng Mười đã đánh bại chủ nghĩ...</td>\n",
       "      <td>no</td>\n",
       "    </tr>\n",
       "    <tr>\n",
       "      <th>2</th>\n",
       "      <td>10fca062-d343-4eca-8434-93c7a8aa5e0e</td>\n",
       "      <td>Vị trí địa lý nằm giữa phương Đông và Địa Trun...</td>\n",
       "      <td>Dựa trên việc Đế quốc Ottoman không bao giờ ki...</td>\n",
       "      <td>Nền ẩm thực của Thổ Nhĩ Kỳ được xây dựng từ gi...</td>\n",
       "      <td>extrinsic</td>\n",
       "    </tr>\n",
       "    <tr>\n",
       "      <th>3</th>\n",
       "      <td>ece8eb9e-d6bb-407a-a567-d9531861c603</td>\n",
       "      <td>Hồ Quý Ly trước có tên là Lê Quý Ly (黎季犛), biể...</td>\n",
       "      <td>Đời cháu thứ 12 của Hồ Hưng Dật sống ở đâu?</td>\n",
       "      <td>Đời cháu thứ 12 của Hồ Hưng Dật, là Hồ Liêm, s...</td>\n",
       "      <td>no</td>\n",
       "    </tr>\n",
       "    <tr>\n",
       "      <th>4</th>\n",
       "      <td>b613217f-df2a-491e-8326-25811a31eb09</td>\n",
       "      <td>Năm 2007, Bồ Đào Nha có khoảng 332.137 người n...</td>\n",
       "      <td>Từ thập niên 1990, tại sao xuất hiện một vài l...</td>\n",
       "      <td>Mặc dù Bồ Đào Nha đã đóng cửa biên giới hoàn t...</td>\n",
       "      <td>intrinsic</td>\n",
       "    </tr>\n",
       "  </tbody>\n",
       "</table>\n",
       "</div>"
      ],
      "text/plain": [
       "                                     id  \\\n",
       "0  9b1ea51d-d1ff-45ba-8cf1-6a91328e8600   \n",
       "1  db7a89c6-2a6a-42af-beef-58e557ecc819   \n",
       "2  10fca062-d343-4eca-8434-93c7a8aa5e0e   \n",
       "3  ece8eb9e-d6bb-407a-a567-d9531861c603   \n",
       "4  b613217f-df2a-491e-8326-25811a31eb09   \n",
       "\n",
       "                                             context  \\\n",
       "0  Vào những năm 1870, hai nhà điêu khắc Augustus...   \n",
       "1  Cách mạng Tháng Mười đã biến một cuộc chiến tr...   \n",
       "2  Vị trí địa lý nằm giữa phương Đông và Địa Trun...   \n",
       "3  Hồ Quý Ly trước có tên là Lê Quý Ly (黎季犛), biể...   \n",
       "4  Năm 2007, Bồ Đào Nha có khoảng 332.137 người n...   \n",
       "\n",
       "                                              prompt  \\\n",
       "0  Vào những năm 1960, nơi nào trở thành trung tâ...   \n",
       "1  Cách mạng Tháng Mười đã khởi xướng chủ nghĩa p...   \n",
       "2  Dựa trên việc Đế quốc Ottoman không bao giờ ki...   \n",
       "3        Đời cháu thứ 12 của Hồ Hưng Dật sống ở đâu?   \n",
       "4  Từ thập niên 1990, tại sao xuất hiện một vài l...   \n",
       "\n",
       "                                            response      label  \n",
       "0  Quảng trường Washington là trung tâm của thế h...  extrinsic  \n",
       "1  Sai. Cách mạng Tháng Mười đã đánh bại chủ nghĩ...         no  \n",
       "2  Nền ẩm thực của Thổ Nhĩ Kỳ được xây dựng từ gi...  extrinsic  \n",
       "3  Đời cháu thứ 12 của Hồ Hưng Dật, là Hồ Liêm, s...         no  \n",
       "4  Mặc dù Bồ Đào Nha đã đóng cửa biên giới hoàn t...  intrinsic  "
      ]
     },
     "execution_count": 20,
     "metadata": {},
     "output_type": "execute_result"
    }
   ],
   "source": [
    "train_df.head()"
   ]
  },
  {
   "cell_type": "code",
   "execution_count": 21,
   "id": "a88bf009",
   "metadata": {},
   "outputs": [
    {
     "name": "stdout",
     "output_type": "stream",
     "text": [
      "7000 1000\n"
     ]
    }
   ],
   "source": [
    "print(len(train_df), len(test_df))"
   ]
  },
  {
   "cell_type": "code",
   "execution_count": null,
   "id": "f0c6c435",
   "metadata": {},
   "outputs": [],
   "source": [
    "train_df['length'] = (train_df['context'] + train_df['response']).apply(len)\n",
    "test_df['length'] = (test_df['context'] + test_df['response']).apply(len)"
   ]
  },
  {
   "cell_type": "code",
   "execution_count": 36,
   "id": "009af485",
   "metadata": {},
   "outputs": [
    {
     "data": {
      "image/png": "[encoded data removed]",
      "text/plain": [
       "<Figure size 640x480 with 1 Axes>"
      ]
     },
     "metadata": {},
     "output_type": "display_data"
    }
   ],
   "source": [
    "plt.hist(train_df['length'], bins=30, alpha=0.5, label='Lengths')\n",
    "plt.legend()\n",
    "plt.show()"
   ]
  },
  {
   "cell_type": "code",
   "execution_count": null,
   "id": "a9b88514",
   "metadata": {},
   "outputs": [
    {
     "data": {
      "image/png": "[encoded data removed]",
      "text/plain": [
       "<Figure size 640x480 with 1 Axes>"
      ]
     },
     "metadata": {},
     "output_type": "display_data"
    }
   ],
   "source": [
    "train_df['label'].value_counts().plot(kind='bar')\n",
    "plt.show()"
   ]
  }
 ],
 "metadata": {
  "kernelspec": {
   "display_name": ".venv",
   "language": "python",
   "name": "python3"
  },
  "language_info": {
   "codemirror_mode": {
    "name": "ipython",
    "version": 3
   },
   "file_extension": ".py",
   "mimetype": "text/x-python",
   "name": "python",
   "nbconvert_exporter": "python",
   "pygments_lexer": "ipython3",
   "version": "3.11.9"
  }
 },
 "nbformat": 4,
 "nbformat_minor": 5
}
