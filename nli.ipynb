{
 "cells": [
  {
   "cell_type": "code",
   "execution_count": null,
   "id": "505999db",
   "metadata": {},
   "outputs": [
    {
     "data": {
      "application/vnd.jupyter.widget-view+json": {
       "model_id": "49770032c3d740d394ce06f97c332ea6",
       "version_major": 2,
       "version_minor": 0
      },
      "text/plain": [
       "tokenizer_config.json:   0%|          | 0.00/395 [00:00<?, ?B/s]"
      ]
     },
     "metadata": {},
     "output_type": "display_data"
    },
    {
     "data": {
      "application/vnd.jupyter.widget-view+json": {
       "model_id": "b1ceb7a49dad475aaa44bdfcddf1af43",
       "version_major": 2,
       "version_minor": 0
      },
      "text/plain": [
       "spm.model:   0%|          | 0.00/2.46M [00:00<?, ?B/s]"
      ]
     },
     "metadata": {},
     "output_type": "display_data"
    },
    {
     "data": {
      "application/vnd.jupyter.widget-view+json": {
       "model_id": "5c195c2ab905472a98ee6dd54d78fc50",
       "version_major": 2,
       "version_minor": 0
      },
      "text/plain": [
       "tokenizer.json: 0.00B [00:00, ?B/s]"
      ]
     },
     "metadata": {},
     "output_type": "display_data"
    },
    {
     "data": {
      "application/vnd.jupyter.widget-view+json": {
       "model_id": "cb38a43b32c4456b8bb84f87c50b8f25",
       "version_major": 2,
       "version_minor": 0
      },
      "text/plain": [
       "added_tokens.json:   0%|          | 0.00/18.0 [00:00<?, ?B/s]"
      ]
     },
     "metadata": {},
     "output_type": "display_data"
    },
    {
     "data": {
      "application/vnd.jupyter.widget-view+json": {
       "model_id": "b803495416824718bdc75d7b35758480",
       "version_major": 2,
       "version_minor": 0
      },
      "text/plain": [
       "special_tokens_map.json:   0%|          | 0.00/156 [00:00<?, ?B/s]"
      ]
     },
     "metadata": {},
     "output_type": "display_data"
    },
    {
     "data": {
      "application/vnd.jupyter.widget-view+json": {
       "model_id": "cfdf7f40c6544095bb38c612d3ed5de0",
       "version_major": 2,
       "version_minor": 0
      },
      "text/plain": [
       "config.json: 0.00B [00:00, ?B/s]"
      ]
     },
     "metadata": {},
     "output_type": "display_data"
    },
    {
     "data": {
      "application/vnd.jupyter.widget-view+json": {
       "model_id": "ed1d843d9e6d408abc0387cd6fd7e5cc",
       "version_major": 2,
       "version_minor": 0
      },
      "text/plain": [
       "model.safetensors:   0%|          | 0.00/870M [00:00<?, ?B/s]"
      ]
     },
     "metadata": {},
     "output_type": "display_data"
    }
   ],
   "source": [
    "from transformers import AutoTokenizer, AutoModelForSequenceClassification\n",
    "import torch\n",
    "device = torch.device(\"cuda\") if torch.cuda.is_available() else torch.device(\"cpu\")\n",
    "\n",
    "model_name = \"MoritzLaurer/ernie-m-large-mnli-xnli\"\n",
    "tokenizer = AutoTokenizer.from_pretrained(model_name)\n",
    "model = AutoModelForSequenceClassification.from_pretrained(model_name).to(device)"
   ]
  },
  {
   "cell_type": "code",
   "execution_count": null,
   "id": "b188b056",
   "metadata": {},
   "outputs": [],
   "source": [
    "import pandas as pd\n",
    "\n",
    "data = pd.read_csv(\"D:/.projects/uit-ds-2025/dataset/vihallu-train-true-final.csv\")\n",
    "data"
   ]
  },
  {
   "cell_type": "code",
   "execution_count": 10,
   "id": "e644481d",
   "metadata": {},
   "outputs": [
    {
     "name": "stdout",
     "output_type": "stream",
     "text": [
      "prediction: {'no': 75.8, 'extrinsic': 7.5, 'intrinsic': 16.6}\n"
     ]
    }
   ],
   "source": [
    "mapping = {\n",
    "    'entailment': 'no',\n",
    "    'neutral': 'extrinsic',\n",
    "    'contradiction': 'intrinsic'\n",
    "}\n",
    "\n",
    "premise = \"Dân số Đông Đức giảm đều đặn trong suốt thời kỳ tồn tại của nó, từ 19 triệu người năm 1948 xuống còn 16 triệu năm 1990. Khoảng 4 triệu người trong dân số năm 1948 là những người Đức bị trục xuất từ các khu vực phía đông giới tuyến Oder-Neisse. Chủ yếu đây là hậu quả của sự di cư – khoảng một phần tư người Đông Đức đã rời bò đất nước trước khi Bức tường Berlin được hoàn thành năm 1961, và sau thời điểm đó, Đông Đức có tỷ lệ sinh rất thấp. Điều này trái ngược với Ba Lan, có dân số trong giai đoạn đó tăng từ 24 triệu năm 1950 (hơi lớn hơn Đông Đức) lên 38 triệu (gấp đôi dân số Đông Đức).\"\n",
    "hypothesis = \"Dân số Đông Đức giảm đều đặn trong suốt thời kỳ tồn tại của nó, từ 19 triệu người năm 1948 xuống còn 16 triệu người năm 1990, chủ yếu do di cư – khoảng một phần tư người Đông Đức đã rời đất nước trước khi Bức tường Berlin được hoàn thành năm 1961, và sau thời điểm đó, Đông Đức có tỷ lệ sinh rất thấp.\"\n",
    "\n",
    "# true_label = row['label']\n",
    "\n",
    "input = tokenizer(premise, hypothesis, truncation=True, return_tensors=\"pt\")\n",
    "output = model(input[\"input_ids\"].to(device))  # device = \"cuda:0\" or \"cpu\"\n",
    "prediction = torch.softmax(output[\"logits\"][0], -1).tolist()\n",
    "label_names = [\"entailment\", \"neutral\", \"contradiction\"]\n",
    "\n",
    "prediction = {mapping[name]: round(float(pred) * 100, 1) for pred, name in zip(prediction, label_names)}\n",
    "\n",
    "print(f\"prediction: {prediction}\")\n"
   ]
  },
  {
   "cell_type": "code",
   "execution_count": null,
   "id": "a6e1d95e",
   "metadata": {},
   "outputs": [],
   "source": []
  },
  {
   "cell_type": "code",
   "execution_count": null,
   "id": "598fa029",
   "metadata": {},
   "outputs": [],
   "source": []
  }
 ],
 "metadata": {
  "kernelspec": {
   "display_name": ".venv",
   "language": "python",
   "name": "python3"
  },
  "language_info": {
   "codemirror_mode": {
    "name": "ipython",
    "version": 3
   },
   "file_extension": ".py",
   "mimetype": "text/x-python",
   "name": "python",
   "nbconvert_exporter": "python",
   "pygments_lexer": "ipython3",
   "version": "3.11.9"
  }
 },
 "nbformat": 4,
 "nbformat_minor": 5
}
