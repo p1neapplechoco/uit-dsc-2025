{
 "cells": [
  {
   "cell_type": "markdown",
   "id": "d8669a1e",
   "metadata": {},
   "source": [
    "# Kaggle Notebook for UIT DSC 2025 Project\n",
    "\n",
    "This notebook clones the GitHub repository https://github.com/p1neapplechoco/uit-dsc-2025/tree/hong and runs the KG test from the models."
   ]
  },
  {
   "cell_type": "code",
   "execution_count": null,
   "id": "5ef7854a",
   "metadata": {},
   "outputs": [],
   "source": [
    "# Clone the GitHub repository\n",
    "%git clone -b hong https://github.com/p1neapplechoco/uit-dsc-2025.git\n",
    "%cd uit-dsc-2025"
   ]
  },
  {
   "cell_type": "code",
   "execution_count": null,
   "id": "6b6a9504",
   "metadata": {},
   "outputs": [],
   "source": [
    "# Install dependencies using pip\n",
    "%pip install torch>=2.8.0 transformers>=4.56.2"
   ]
  },
  {
   "cell_type": "code",
   "execution_count": null,
   "id": "6fd335ca",
   "metadata": {},
   "outputs": [],
   "source": [
    "# Import modules from the cloned repo\n",
    "import sys\n",
    "sys.path.append('src/models')\n",
    "from COREF import COREF\n",
    "from EE import EE\n",
    "from RE import RE"
   ]
  },
  {
   "cell_type": "code",
   "execution_count": null,
   "id": "83a069b2",
   "metadata": {},
   "outputs": [],
   "source": [
    "# Navigate to the models directory\n",
    "%cd src/models"
   ]
  },
  {
   "cell_type": "code",
   "execution_count": null,
   "id": "0fd4b635",
   "metadata": {},
   "outputs": [],
   "source": [
    "# Giả sử model_name là Qwen, bạn có thể thay đổi\n",
    "MODEL_NAME = \"Qwen/Qwen3-4B-Instruct-2507\"  # Thay bằng model thực tế nếu khác\n",
    "\n",
    "def create_knowledge_graph(text):\n",
    "    \"\"\"\n",
    "    Chạy pipeline: COREF -> EE -> RE để xử lý văn bản và trích xuất entities và relations\n",
    "    \"\"\"\n",
    "    # Bước 1: Coreference Resolution\n",
    "    coref = COREF(MODEL_NAME)\n",
    "    resolved_text = coref(text)\n",
    "    print(\"Resolved Text:\", resolved_text)\n",
    "\n",
    "    # Bước 2: Entity Extraction\n",
    "    ee = EE(MODEL_NAME)\n",
    "    entities = ee(resolved_text)\n",
    "    print(\"Entities:\", entities)\n",
    "\n",
    "    # Bước 3: Relation Extraction\n",
    "    re_model = RE(MODEL_NAME)\n",
    "    relations = re_model(resolved_text, entities)\n",
    "    print(\"Relations:\", relations)\n",
    "\n",
    "    return entities, relations\n",
    "\n",
    "# Ví dụ văn bản test\n",
    "sample_text = \"Lan gặp Minh ở Hà Nội. Minh rất là đẹp trai. Hà Nội là thủ đô của Việt Nam.\"\n",
    "\n",
    "# Tạo KG\n",
    "kg = create_knowledge_graph(sample_text)"
   ]
  }
 ],
 "metadata": {
  "language_info": {
   "name": "python"
  }
 },
 "nbformat": 4,
 "nbformat_minor": 5
}
